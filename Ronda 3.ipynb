{
 "cells": [
  {
   "cell_type": "markdown",
   "metadata": {},
   "source": [
    "Ronda 3"
   ]
  },
  {
   "cell_type": "markdown",
   "metadata": {},
   "source": [
    "Fibonacci hasta N: Crea una función que reciba un número entero N y devuelva una lista con todos los números de la secuencia de Fibonacci hasta que el valor supere o iguale a N. La secuencia de Fibonacci es una sucesión de números en la que cada número es la suma de los dos anteriores, comenzando con 0 y 1. Las reglas son:\n",
    "•La secuencia debe comenzar con los números 0 y 1.\n",
    "•La función debe devolver todos los números de Fibonacci menores o iguales a N.\n",
    "•Si N es menor que 0, la función debe devolver una lista vacía.\n",
    "•La lista resultante debe incluir todos los números de Fibonacci en orden creciente hasta que el siguiente número supere N."
   ]
  },
  {
   "cell_type": "code",
   "execution_count": 33,
   "metadata": {},
   "outputs": [
    {
     "name": "stdout",
     "output_type": "stream",
     "text": [
      "[0, 1, 1, 2, 3, 5, 8]\n"
     ]
    }
   ],
   "source": [
    "#Ronda 3 No participabamos \n",
    "def fibonacci(n):\n",
    "    sucesion = []\n",
    "    n1, n2 = 0, 1\n",
    "    #Si n es menor que 0 entonces es error\n",
    "    if n < 0:\n",
    "        print(\"Incorrect input\")\n",
    "\n",
    "    #Si es 0 entonces 0\n",
    "    elif n == 0:\n",
    "        return 0\n",
    "\n",
    "    #Si es 1 o 2 entonces es 1\n",
    "    elif n == 1 or n == 2:\n",
    "        return 1\n",
    "\n",
    "    else:\n",
    "        while n1 < n: #Mientras count sea menor que n \n",
    "            sucesion.append(n1) #Guardamos el primer valor (0)\n",
    "            nth = n1 + n2 #en este caso es 0 + 1 = 1\n",
    "            n1 = n2  #Ahora n1 es 1\n",
    "            n2 = nth #y n2 es 1, lo que luego nos dará 2,3,5,8..\n",
    "        \n",
    "        print(sucesion)\n",
    "\n",
    "\n",
    "# Driver Program\n",
    "fibonacci(9)\n",
    "    \n",
    "    "
   ]
  }
 ],
 "metadata": {
  "kernelspec": {
   "display_name": "Python 3",
   "language": "python",
   "name": "python3"
  },
  "language_info": {
   "codemirror_mode": {
    "name": "ipython",
    "version": 3
   },
   "file_extension": ".py",
   "mimetype": "text/x-python",
   "name": "python",
   "nbconvert_exporter": "python",
   "pygments_lexer": "ipython3",
   "version": "3.11.9"
  }
 },
 "nbformat": 4,
 "nbformat_minor": 2
}
