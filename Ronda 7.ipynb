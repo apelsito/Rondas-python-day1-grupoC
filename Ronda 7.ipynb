{
 "cells": [
  {
   "cell_type": "markdown",
   "metadata": {},
   "source": [
    "Ronda 7"
   ]
  },
  {
   "cell_type": "markdown",
   "metadata": {},
   "source": [
    "\n",
    "Conversión de números a palabras: Crea una función que reciba un número entero entre 1 y 9999, y devuelva su representación en palabras en español. El objetivo es convertir un número entero entre 1 y 9999 a su equivalente en palabras en español. Por ejemplo, el número 123 debe convertirse en “ciento veintitrés”. Las reglas son:\n",
    "•Los números del 1 al 9 se escriben como “uno”, “dos”, “tres”, etc.\n",
    "•Los números del 10 al 19 tienen formas especiales: “diez”, “once”, “doce”, etc.\n",
    "•Los números del 20 al 99 se dividen en decenas y unidades: “veinte”, “treinta y uno”, etc.\n",
    "•Los números del 100 al 9999 siguen las reglas del sistema de centenas: “ciento”, “doscientos”, “mil”, etc."
   ]
  },
  {
   "cell_type": "code",
   "execution_count": 72,
   "metadata": {},
   "outputs": [
    {
     "name": "stdout",
     "output_type": "stream",
     "text": [
      "Cuatro Mil Quinientos treinta dos\n"
     ]
    }
   ],
   "source": [
    "def hola(num):\n",
    "\n",
    "    habla = {\n",
    "        9000: \"Nueve Mil\",\n",
    "        8000: \"Ocho Mil\",\n",
    "        7000: \"Siete Mil\",\n",
    "        6000: \"Seis Mil\",\n",
    "        5000: \"Cinco Mil\",\n",
    "        4000: \"Cuatro Mil\",\n",
    "        3000: \"Tres Mil\",\n",
    "        2000: \"Dos Mil\",\n",
    "        1000: \"Mil\",\n",
    "        900: \"Novecientos\",\n",
    "        800: \"Ochocientos\",\n",
    "        700: \"Setecientos\",\n",
    "        600: \"Seiscientos\",\n",
    "        500: \"Quinientos\",\n",
    "        400: \"Cuatrocientos\",\n",
    "        300: \"Trescientos\",\n",
    "        200: \"Doscientos\",\n",
    "        100: \"Ciento\",\n",
    "        90 : \"noventa\",\n",
    "        80 : \"ochenta\",\n",
    "        70 : \"setenta\",\n",
    "        60 : \"sesenta\",\n",
    "        50 : \"cincuenta\",\n",
    "        40 : \"cuarenta\",\n",
    "        30 : \"treinta\",\n",
    "        20 : \"veinte\",\n",
    "        10 : \"diez\",\n",
    "        9  :\"nueve\",\n",
    "        8 : \"ocho\",\n",
    "        7 : \"siete\",\n",
    "        6 : \"seis\",\n",
    "        5 : \"cinco\",\n",
    "        4 : \"cuatro\",\n",
    "        3 : \"tres\",\n",
    "        2 : \"dos\",\n",
    "        1 : \"uno\",\n",
    "        0 : \"\"\n",
    "    }\n",
    "    \n",
    "    num = str(num)\n",
    "    num1 = num[0] + '000'\n",
    "    num2 = num[1] + '00'\n",
    "    num3 = num[2] + '0'\n",
    "    num4 = num[3]\n",
    "    str1 = habla[int(num1)] + ' ' + habla[int(num2)] + ' ' + habla[int(num3)] + ' ' + habla[int(num4)]\n",
    "    \n",
    "    print(str1)\n",
    "\n",
    "hola(4532)"
   ]
  }
 ],
 "metadata": {
  "kernelspec": {
   "display_name": "Python 3",
   "language": "python",
   "name": "python3"
  },
  "language_info": {
   "codemirror_mode": {
    "name": "ipython",
    "version": 3
   },
   "file_extension": ".py",
   "mimetype": "text/x-python",
   "name": "python",
   "nbconvert_exporter": "python",
   "pygments_lexer": "ipython3",
   "version": "3.11.9"
  }
 },
 "nbformat": 4,
 "nbformat_minor": 2
}
