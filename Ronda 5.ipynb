{
 "cells": [
  {
   "cell_type": "markdown",
   "metadata": {},
   "source": [
    "Ronda 5"
   ]
  },
  {
   "cell_type": "markdown",
   "metadata": {},
   "source": [
    "Llenar una mochila: Crea una función que reciba una lista de pesos de objetos y un peso máximo, y determine cuántos objetos puedes llevar sin superar el peso máximo. El objetivo es seleccionar la mayor cantidad de objetos posible sin que la suma de sus pesos exceda el límite permitido. Las reglas son:\n",
    "•Los objetos deben seleccionarse de manera que el peso total no supere el peso máximo.\n",
    "•Debes intentar incluir el mayor número posible de objetos.\n",
    "•La función debe devolver el número total de objetos que se pueden llevar sin exceder el peso máximo.\n",
    "•Los pesos de los objetos son números enteros positivos.\n",
    "•Los objetos deben seleccionarse en el orden que maximice la cantidad de objetos, por lo que es útil ordenar los objetos por peso ascendente antes de seleccionarlos."
   ]
  },
  {
   "cell_type": "code",
   "execution_count": 50,
   "metadata": {},
   "outputs": [
    {
     "name": "stdout",
     "output_type": "stream",
     "text": [
      "[300, 200, 100]\n"
     ]
    }
   ],
   "source": [
    "def mochila(lista,maxpeso):\n",
    "    suma = 0 \n",
    "    cosas = 0\n",
    "    lista.sort()\n",
    "    print(lista)\n",
    "\n",
    "        \n",
    "\n",
    "mochila([100,200,300],500)"
   ]
  }
 ],
 "metadata": {
  "kernelspec": {
   "display_name": "Python 3",
   "language": "python",
   "name": "python3"
  },
  "language_info": {
   "codemirror_mode": {
    "name": "ipython",
    "version": 3
   },
   "file_extension": ".py",
   "mimetype": "text/x-python",
   "name": "python",
   "nbconvert_exporter": "python",
   "pygments_lexer": "ipython3",
   "version": "3.11.9"
  }
 },
 "nbformat": 4,
 "nbformat_minor": 2
}
