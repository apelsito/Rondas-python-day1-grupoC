{
 "cells": [
  {
   "cell_type": "markdown",
   "metadata": {},
   "source": [
    "Ronda 6"
   ]
  },
  {
   "cell_type": "markdown",
   "metadata": {},
   "source": [
    "Encontrar el número que falta en una secuencia:  Crea una función que reciba una lista de n-1 números únicos que representan una secuencia de números consecutivos entre 1 y n, donde falta un número, y encuentre el número faltante. El objetivo es identificar el número que falta para completar la secuencia. Las reglas son:\n",
    "•La secuencia contiene números consecutivos entre 1 y n, con exactamente un número faltante.\n",
    "•La lista contiene n-1 números únicos.\n",
    "•La función debe devolver el número faltante.\n",
    "•La función debe ser capaz de manejar tanto secuencias ascendentes como descendentes, siempre que contengan números consecutivos.\n",
    "•El valor de n es el número más alto esperado en la secuencia."
   ]
  },
  {
   "cell_type": "code",
   "execution_count": 57,
   "metadata": {},
   "outputs": [
    {
     "name": "stdout",
     "output_type": "stream",
     "text": [
      "2\n"
     ]
    }
   ],
   "source": [
    "def secuencia(secuencia):\n",
    "    num = 0\n",
    "    ordenar = secuencia.sort()\n",
    "    inicial = secuencia[0]\n",
    "    i = 0\n",
    "    if inicial + 1 != secuencia[i + 1]:\n",
    "        suma = inicial + 1\n",
    "        print(suma)\n",
    "    \n",
    "    \n",
    "\n",
    "\n",
    "\n",
    "secuencia([1,3,4,5])\n",
    "    \n",
    "\n"
   ]
  }
 ],
 "metadata": {
  "kernelspec": {
   "display_name": "Python 3",
   "language": "python",
   "name": "python3"
  },
  "language_info": {
   "codemirror_mode": {
    "name": "ipython",
    "version": 3
   },
   "file_extension": ".py",
   "mimetype": "text/x-python",
   "name": "python",
   "nbconvert_exporter": "python",
   "pygments_lexer": "ipython3",
   "version": "3.11.9"
  }
 },
 "nbformat": 4,
 "nbformat_minor": 2
}
