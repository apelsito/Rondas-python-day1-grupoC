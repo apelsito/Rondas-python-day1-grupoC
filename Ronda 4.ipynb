{
 "cells": [
  {
   "cell_type": "markdown",
   "metadata": {},
   "source": [
    "Ronda 4"
   ]
  },
  {
   "cell_type": "markdown",
   "metadata": {},
   "source": [
    "Encontrar la sublista con la mayor suma: Crea una función que reciba una lista de números y devuelva el subarray (sublista continua) con la mayor suma posible. El objetivo es identificar la secuencia continua de números dentro de la lista cuya suma sea la mayor. Las reglas son:\n",
    "•La sublista debe ser continua, es decir, no se pueden saltar elementos.\n",
    "•La función debe devolver la mayor suma que se pueda obtener de una sublista de la lista.\n",
    "•La lista puede contener números positivos, negativos o ambos.\n",
    "•Si la lista tiene un solo número, ese número es la suma máxima posible.\n",
    "•Si todos los números de la lista son negativos, la función debe devolver el número negativo de mayor valor."
   ]
  },
  {
   "cell_type": "code",
   "execution_count": 41,
   "metadata": {},
   "outputs": [
    {
     "name": "stdout",
     "output_type": "stream",
     "text": [
      "-2\n",
      "1\n",
      "-2\n",
      "7\n",
      "5\n",
      "7\n",
      "8\n",
      "3\n",
      "7\n",
      "8\n"
     ]
    }
   ],
   "source": [
    "#No resuelto\n",
    "def solve(nums):\n",
    "    dp = [0 for i in range(len(nums))]\n",
    "    dp[0] = nums[0]\n",
    "    for i in range(len(nums)):\n",
    "        dp[i] = max(dp[i-1]+nums[i],nums[i])\n",
    "        print(dp[i])\n",
    "    return max(dp)\n",
    "\n",
    "nums = [-2,1,-3,7,-2,2,1,-5,4]\n",
    "\n",
    "print(solve(nums))  "
   ]
  }
 ],
 "metadata": {
  "kernelspec": {
   "display_name": "Python 3",
   "language": "python",
   "name": "python3"
  },
  "language_info": {
   "codemirror_mode": {
    "name": "ipython",
    "version": 3
   },
   "file_extension": ".py",
   "mimetype": "text/x-python",
   "name": "python",
   "nbconvert_exporter": "python",
   "pygments_lexer": "ipython3",
   "version": "3.11.9"
  }
 },
 "nbformat": 4,
 "nbformat_minor": 2
}
